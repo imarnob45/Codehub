{
  "nbformat": 4,
  "nbformat_minor": 0,
  "metadata": {
    "colab": {
      "provenance": []
    },
    "kernelspec": {
      "name": "python3",
      "display_name": "Python 3"
    },
    "language_info": {
      "name": "python"
    }
  },
  "cells": [
    {
      "cell_type": "code",
      "execution_count": 5,
      "metadata": {
        "colab": {
          "base_uri": "https://localhost:8080/"
        },
        "id": "s9jSZwqsLDus",
        "outputId": "28fc055e-7112-4c35-b29c-c951b119fcdc"
      },
      "outputs": [
        {
          "output_type": "stream",
          "name": "stdout",
          "text": [
            "cos(x) + 1/x\n",
            "cos(4) + 1/4\n"
          ]
        },
        {
          "output_type": "execute_result",
          "data": {
            "text/plain": [
              "0.6294918658119624"
            ]
          },
          "metadata": {},
          "execution_count": 5
        }
      ],
      "source": [
        "#Import SymPy\n",
        "from sympy import*\n",
        "\n",
        "#Make a symbol\n",
        "x= symbols('x')\n",
        "\n",
        "#Write symbolic expression\n",
        "f = sin(x)+ ln(x)\n",
        "\n",
        "#taking the first derivative of the function\n",
        "df= diff(f,x)\n",
        "\n",
        "print(df)\n",
        "\n",
        "print(df.subs(x,4))\n",
        "L = lambdify(x, f)\n",
        "L(4)"
      ]
    },
    {
      "cell_type": "code",
      "source": [
        "from sympy import*\n",
        "x = symbols('x')\n",
        "y = symbols('y')\n",
        "z = symbols('z')\n",
        "\n",
        "f = 3*x**(2)*y**(2)*z + y**(3)*x**(5) - x**(-3)*z**(2)\n",
        "\n",
        "df1 = diff(f,x)\n",
        "df3 = diff(f,x,y,z)\n",
        "df2 = diff(f,x,y)\n",
        "\n",
        "print('Based on 3 (x,y,z) variable', df)\n",
        "print('Based on 2 (x,y) variable', df2)\n",
        "print('Based on 1 (x) variable', df1)\n",
        "\n",
        "print(df.subs(x,4))\n",
        "L = lambdify(x, f)\n",
        "L(4)\n"
      ],
      "metadata": {
        "colab": {
          "base_uri": "https://localhost:8080/",
          "height": 123
        },
        "id": "EZZA81ObRfiK",
        "outputId": "df248a6a-fa5a-460c-a69e-d77244653828"
      },
      "execution_count": 18,
      "outputs": [
        {
          "output_type": "stream",
          "name": "stdout",
          "text": [
            "Based on 3 (x,y,z) variable 12*x*y\n",
            "Based on 2 (x,y) variable 3*x*y*(5*x**3*y + 4*z)\n",
            "Based on 1 (x) variable 5*x**4*y**3 + 6*x*y**2*z + 3*z**2/x**4\n",
            "48*y\n"
          ]
        },
        {
          "output_type": "execute_result",
          "data": {
            "text/plain": [
              "1024*y**3 + 48*y**2*z - z**2/64"
            ],
            "text/latex": "$\\displaystyle 1024 y^{3} + 48 y^{2} z - \\frac{z^{2}}{64}$"
          },
          "metadata": {},
          "execution_count": 18
        }
      ]
    },
    {
      "cell_type": "code",
      "source": [
        "from sympy import*\n",
        "x = symbols('x')\n",
        "\n",
        "y = x**(4) - 8*x**(3) + 22*x**(2) - 24*x + 5\n",
        "\n",
        "df1 = diff(y, x)\n",
        "print('1st Diff ------>', df1)\n",
        "y1 = solve(df1, x)\n",
        "print('Values ------>', y1)\n",
        "\n",
        "df2 = diff(df1, x)\n",
        "print('2nd diff ------>', df2)\n",
        "\n",
        "c = []\n",
        "\n",
        "for i in y1:\n",
        "  k = df2.subs(x, i)\n",
        "  c.append(k)\n",
        "print('Points of x --->', c)\n",
        "\n",
        "for j in c:\n",
        "  mini_v = []\n",
        "  maxi_v = []\n",
        "  if j > 0:\n",
        "    mini_v.append(j)\n",
        "  elif j < 0:\n",
        "    maxi_v.append(j)\n",
        "\n",
        "print(mini_v)\n",
        "print(maxi_v)"
      ],
      "metadata": {
        "colab": {
          "base_uri": "https://localhost:8080/"
        },
        "id": "PHkINMT5TGSX",
        "outputId": "e95e6c65-bb1f-4a84-8b9f-0663149c91c6"
      },
      "execution_count": 37,
      "outputs": [
        {
          "output_type": "stream",
          "name": "stdout",
          "text": [
            "1st Diff ------> 4*x**3 - 24*x**2 + 44*x - 24\n",
            "Values ------> [1, 2, 3]\n",
            "2nd diff ------> 12*x**2 - 48*x + 44\n",
            "Points of x ---> [8, -4, 8]\n",
            "[8]\n",
            "[]\n"
          ]
        }
      ]
    }
  ]
}