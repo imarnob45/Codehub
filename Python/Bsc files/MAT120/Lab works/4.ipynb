{
  "nbformat": 4,
  "nbformat_minor": 0,
  "metadata": {
    "colab": {
      "provenance": []
    },
    "kernelspec": {
      "name": "python3",
      "display_name": "Python 3"
    },
    "language_info": {
      "name": "python"
    }
  },
  "cells": [
    {
      "cell_type": "code",
      "execution_count": 23,
      "metadata": {
        "id": "Et6AwDFXRUx-"
      },
      "outputs": [],
      "source": [
        "import sympy as smp\n",
        "import numpy as np\n",
        "import scipy as sp\n",
        "from scipy.integrate import quad"
      ]
    },
    {
      "cell_type": "code",
      "source": [
        "#l4-2.1\n",
        "import sympy as smp\n",
        "\n",
        "theta = smp.symbols('theta')\n",
        "x, n = smp.symbols('x , n')\n",
        "\n",
        "f1 = smp.sin(theta)**2 * smp.cos(theta)**2\n",
        "\n",
        "smp.integrate(f1, (theta, 0, smp.pi)).simplify()"
      ],
      "metadata": {
        "colab": {
          "base_uri": "https://localhost:8080/",
          "height": 47
        },
        "id": "AkWabjWzcKnd",
        "outputId": "1ec5b7bd-4e50-480b-bd05-d973a79a057d"
      },
      "execution_count": 24,
      "outputs": [
        {
          "output_type": "execute_result",
          "data": {
            "text/plain": [
              "pi/8"
            ],
            "text/latex": "$\\displaystyle \\frac{\\pi}{8}$"
          },
          "metadata": {},
          "execution_count": 24
        }
      ]
    },
    {
      "cell_type": "code",
      "source": [
        "#L4-2.2\n",
        "import sympy\n",
        "\n",
        "x = sympy.Symbol('x')\n",
        "n = sympy.Symbol('n')\n",
        "\n",
        "sympy.integrate(x**n * sympy.ln(x), x).simplify()"
      ],
      "metadata": {
        "colab": {
          "base_uri": "https://localhost:8080/",
          "height": 69
        },
        "id": "-1E9qF_7R0Nf",
        "outputId": "f48c0b44-8416-428c-eb1d-2502c0460ee0"
      },
      "execution_count": 25,
      "outputs": [
        {
          "output_type": "execute_result",
          "data": {
            "text/plain": [
              "Piecewise((x**(n + 1)*(n*log(x) + log(x) - 1)/(n**2 + 2*n + 1), (n > -1) | (n < -1)), (log(x)**2/2, True))"
            ],
            "text/latex": "$\\displaystyle \\begin{cases} \\frac{x^{n + 1} \\left(n \\log{\\left(x \\right)} + \\log{\\left(x \\right)} - 1\\right)}{n^{2} + 2 n + 1} & \\text{for}\\: n > -1 \\vee n < -1 \\\\\\frac{\\log{\\left(x \\right)}^{2}}{2} & \\text{otherwise} \\end{cases}$"
          },
          "metadata": {},
          "execution_count": 25
        }
      ]
    },
    {
      "cell_type": "code",
      "source": [
        "#L3-Ellipse_building\n",
        "import matplotlib.pyplot as plt\n",
        "import numpy as np\n",
        "\n",
        "a = int(input(\"Enter semi-major axis length: \"))\n",
        "b = int(input(\"Enter semi-minor axis length: \"))\n",
        "\n",
        "t = np.linspace(0, 2*np.pi, 100)\n",
        "\n",
        "x = a*np.cos(t)\n",
        "y = b*np.sin(t)\n",
        "\n",
        "plt.plot(x, y)\n",
        "plt.fill_between(x, y)\n",
        "plt.axis('equal')\n",
        "plt.show()"
      ],
      "metadata": {
        "colab": {
          "base_uri": "https://localhost:8080/",
          "height": 465
        },
        "id": "dwzqRHJ0gAHj",
        "outputId": "3e43e99a-6ab7-4bd8-d460-8989a68c46a2"
      },
      "execution_count": 30,
      "outputs": [
        {
          "name": "stdout",
          "output_type": "stream",
          "text": [
            "Enter semi-major axis length: 70\n",
            "Enter semi-minor axis length: 90\n"
          ]
        },
        {
          "output_type": "display_data",
          "data": {
            "text/plain": [
              "<Figure size 640x480 with 1 Axes>"
            ],
            "image/png": "[encoded data removed]"
          },
          "metadata": {}
        }
      ]
    }
  ]
}