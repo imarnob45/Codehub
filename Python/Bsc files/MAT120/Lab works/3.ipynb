{
  "nbformat": 4,
  "nbformat_minor": 0,
  "metadata": {
    "colab": {
      "provenance": []
    },
    "kernelspec": {
      "name": "python3",
      "display_name": "Python 3"
    },
    "language_info": {
      "name": "python"
    }
  },
  "cells": [
    {
      "cell_type": "markdown",
      "source": [
        "# **Set: B**"
      ],
      "metadata": {
        "id": "rXvd6VtNOiCN"
      }
    },
    {
      "cell_type": "code",
      "source": [
        "#Task: 1\n",
        "from sympy import*\n",
        "\n",
        "x = symbols('x')\n",
        "f = 2*(x**3) - 9*x**2 + 12*x + 5\n",
        "\n",
        "#1st derivative\n",
        "df = diff(f,x)\n",
        "print('1st derivative:', df)\n",
        "df2 = diff(f,x,2)\n",
        "print(df2)"
      ],
      "metadata": {
        "colab": {
          "base_uri": "https://localhost:8080/"
        },
        "id": "GhEgGbiWOjVF",
        "outputId": "dfde5e45-422c-432f-83cc-82de41694594"
      },
      "execution_count": 18,
      "outputs": [
        {
          "output_type": "stream",
          "name": "stdout",
          "text": [
            "1st derivative: 6*x**2 - 18*x + 12\n",
            "6*(2*x - 3)\n"
          ]
        }
      ]
    },
    {
      "cell_type": "code",
      "source": [
        "#Task: 2.a\n",
        "\n",
        "from sympy import*\n",
        "x = symbols('x')\n",
        "f = 2*csc(2*x)*cos(ln(tan(x)))\n",
        "df = diff(f,x)\n",
        "print('Ans is:', df)"
      ],
      "metadata": {
        "colab": {
          "base_uri": "https://localhost:8080/"
        },
        "id": "XsSO1ItJQgjj",
        "outputId": "4b4a41d1-8a1a-4417-8aaf-b2fb10ba9261"
      },
      "execution_count": 17,
      "outputs": [
        {
          "output_type": "stream",
          "name": "stdout",
          "text": [
            "Ans is: -2*(tan(x)**2 + 1)*sin(log(tan(x)))*csc(2*x)/tan(x) - 4*cos(log(tan(x)))*cot(2*x)*csc(2*x)\n"
          ]
        }
      ]
    },
    {
      "cell_type": "code",
      "source": [
        "#Task: 2.b\n",
        "from sympy import*\n",
        "t = symbols('t')\n",
        "f = (1+t+t**2)/(1-t+t**2)\n",
        "df = diff(f,t)\n",
        "print('Ans is:', df)"
      ],
      "metadata": {
        "colab": {
          "base_uri": "https://localhost:8080/"
        },
        "id": "bblehjihRY7B",
        "outputId": "4dd576e1-8272-4351-a902-c1be8bd67458"
      },
      "execution_count": 6,
      "outputs": [
        {
          "output_type": "stream",
          "name": "stdout",
          "text": [
            "Ans is: (1 - 2*t)*(t**2 + t + 1)/(t**2 - t + 1)**2 + (2*t + 1)/(t**2 - t + 1)\n"
          ]
        }
      ]
    },
    {
      "cell_type": "code",
      "source": [
        "#Task: 4\n",
        "from sympy import*\n",
        "x = symbols('x')\n",
        "y = symbols('y')\n",
        "\n",
        "f = x**2*(sin(y)) - x*y**3\n",
        "df = diff(f,x,y)\n",
        "df2 = diff(f, x, y, 2)\n",
        "print('Ans is:', df2)"
      ],
      "metadata": {
        "colab": {
          "base_uri": "https://localhost:8080/"
        },
        "id": "ob47UC6eR7qn",
        "outputId": "b6a1c8c6-0813-42e5-8bf2-ffab81e6bb7a"
      },
      "execution_count": 15,
      "outputs": [
        {
          "output_type": "stream",
          "name": "stdout",
          "text": [
            "Ans is: -2*(x*sin(y) + 3*y)\n"
          ]
        }
      ]
    }
  ]
}