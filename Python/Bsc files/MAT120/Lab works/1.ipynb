{
  "nbformat": 4,
  "nbformat_minor": 0,
  "metadata": {
    "colab": {
      "provenance": []
    },
    "kernelspec": {
      "name": "python3",
      "display_name": "Python 3"
    },
    "language_info": {
      "name": "python"
    }
  },
  "cells": [
    {
      "cell_type": "code",
      "source": [
        "for i in range(2):\n",
        "  x = int(input(\"Enter a value: \"))\n",
        "  y = x**3 - (3*x**2) - 45*x + 13\n",
        "  print('Value of y:', y)"
      ],
      "metadata": {
        "colab": {
          "base_uri": "https://localhost:8080/"
        },
        "id": "femBhu_1MvV2",
        "outputId": "a8be40a3-ce98-4a2f-c334-c85c1766c4bd"
      },
      "execution_count": 31,
      "outputs": [
        {
          "output_type": "stream",
          "name": "stdout",
          "text": [
            "Enter a value: 5\n",
            "Value of y: -162\n",
            "Enter a value: -3\n",
            "Value of y: 94\n"
          ]
        }
      ]
    },
    {
      "cell_type": "code",
      "source": [
        "from sympy import*\n",
        "x = symbols('x')\n",
        "f = x**3 - (3*x**2) - 45*x + 13\n",
        "\n",
        "#1st derivative\n",
        "df = diff(f,x)\n",
        "print('1st derivative:', df)\n",
        "#2nd derivative\n",
        "df2 = diff(f,x,2)\n",
        "print('2nd derivative:', df2)\n",
        "#Substituting\n",
        "print('Sub in f:', f.subs(x, 4))\n",
        "print('Sub in df:', df.subs(x,4))\n",
        "print('Sub in df in float:', df.subs(x,4).evalf())\n"
      ],
      "metadata": {
        "colab": {
          "base_uri": "https://localhost:8080/"
        },
        "id": "8xjMeV8nNjVr",
        "outputId": "1d3f513f-f799-4cd1-d7b7-ce4717da03dd"
      },
      "execution_count": 30,
      "outputs": [
        {
          "output_type": "stream",
          "name": "stdout",
          "text": [
            "1st derivative: 3*x**2 - 6*x - 45\n",
            "2nd derivative: 6*(x - 1)\n",
            "Sub in f: -151\n",
            "Sub in df: -21\n",
            "Sub in df in float: -21.0000000000000\n"
          ]
        }
      ]
    },
    {
      "cell_type": "code",
      "source": [
        "from sympy import*\n",
        "x = symbols('x')\n",
        "f = sin(x)+ln(x)\n",
        "\n",
        "#1st derivative\n",
        "df = diff(f,x)\n",
        "print('1st derivative:', df)\n",
        "#2nd derivative\n",
        "df2 = diff(f,x,2)\n",
        "print('2nd derivative:', df2)\n",
        "#Substituting\n",
        "print('Sub in f:', f.subs(x, 4))\n",
        "print('Sub in df:', df.subs(x,4))\n",
        "print('Sub in df in float:', df.subs(x,4).evalf())"
      ],
      "metadata": {
        "colab": {
          "base_uri": "https://localhost:8080/"
        },
        "id": "Nm5efrpUS7aZ",
        "outputId": "bd8b9bb3-4da7-4dbd-d422-895c220952bb"
      },
      "execution_count": 24,
      "outputs": [
        {
          "output_type": "stream",
          "name": "stdout",
          "text": [
            "1st derivative: cos(x) + 1/x\n",
            "2nd derivative: -(sin(x) + x**(-2))\n",
            "Sub in f: sin(4) + log(4)\n",
            "Sub in df: cos(4) + 1/4\n",
            "Sub in df in float: -0.403643620863612\n"
          ]
        }
      ]
    },
    {
      "cell_type": "code",
      "source": [
        "from sympy import*\n",
        "x = symbols('x')\n",
        "f = asin(x)\n",
        "\n",
        "#1st derivative\n",
        "df = diff(f,x)\n",
        "print('1st derivative:', df)\n",
        "#2nd derivative\n",
        "df2 = diff(f,x,2)\n",
        "print('2nd derivative:', df2)\n",
        "#Substituting\n",
        "print('Sub in f:', f.subs(x, 4))\n",
        "print('Sub in df:', df.subs(x,4))\n",
        "print('Sub in df in float:', df.subs(x,4).evalf())"
      ],
      "metadata": {
        "colab": {
          "base_uri": "https://localhost:8080/"
        },
        "id": "EWYy2IBzTZpS",
        "outputId": "ffc0fe4d-dede-4525-eb96-f4c1f9354561"
      },
      "execution_count": 29,
      "outputs": [
        {
          "output_type": "stream",
          "name": "stdout",
          "text": [
            "1st derivative: 1/sqrt(1 - x**2)\n",
            "2nd derivative: x/(1 - x**2)**(3/2)\n",
            "Sub in f: asin(4)\n",
            "Sub in df: -sqrt(15)*I/15\n",
            "Sub in df in float: -0.258198889747161*I\n"
          ]
        }
      ]
    }
  ]
}