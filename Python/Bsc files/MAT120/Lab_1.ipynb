{
  "nbformat": 4,
  "nbformat_minor": 0,
  "metadata": {
    "colab": {
      "provenance": [],
      "collapsed_sections": [
        "sfhDu1dy8cWA",
        "IfGDZ5oI9_Di",
        "j8E2EHhLAtsH",
        "mO7uwRyQCaeE",
        "s11cbFn4VFln",
        "8qXCrb9CVvMa",
        "gs7KSIYcXZqy"
      ]
    },
    "kernelspec": {
      "name": "python3",
      "display_name": "Python 3"
    },
    "language_info": {
      "name": "python"
    }
  },
  "cells": [
    {
      "cell_type": "markdown",
      "source": [
        "##Variables\n"
      ],
      "metadata": {
        "id": "sfhDu1dy8cWA"
      }
    },
    {
      "cell_type": "code",
      "source": [
        "a = 1       # integer\n",
        "b = 1.1     # float or double\n",
        "c = 1 + 2j  # complex number (a + bi)\n",
        "d = \"a\"     # string\n",
        "e = True    # boolean (True / False)\n",
        "\n",
        "print(a)\n",
        "print(b)\n",
        "print(c)\n",
        "print(d)\n",
        "print(e)\n",
        "print(type(a))"
      ],
      "metadata": {
        "id": "tPQfbZVO81Vz",
        "colab": {
          "base_uri": "https://localhost:8080/"
        },
        "outputId": "3ed17e28-acb1-4003-8a2b-1e568b6bdd6f"
      },
      "execution_count": null,
      "outputs": [
        {
          "output_type": "stream",
          "name": "stdout",
          "text": [
            "1\n",
            "1.1\n",
            "(1+2j)\n",
            "a\n",
            "True\n",
            "<class 'int'>\n"
          ]
        }
      ]
    },
    {
      "cell_type": "markdown",
      "source": [
        "##Strings"
      ],
      "metadata": {
        "id": "IfGDZ5oI9_Di"
      }
    },
    {
      "cell_type": "code",
      "source": [
        "x = \"Python\"\n",
        "print(x[0])\n",
        "print(x[-1])\n",
        "print(x[-2])\n",
        "print(x[0:3])\n",
        "\n",
        "print(len(x))\n",
        "print(x.lower())\n",
        "print(x.upper())\n",
        "print(x.find(\"y\"))"
      ],
      "metadata": {
        "id": "GTrolVdt-Eig",
        "colab": {
          "base_uri": "https://localhost:8080/"
        },
        "outputId": "81982984-c6ef-49c7-bfbe-805e6078a460"
      },
      "execution_count": null,
      "outputs": [
        {
          "output_type": "stream",
          "name": "stdout",
          "text": [
            "P\n",
            "n\n",
            "o\n",
            "Pyt\n",
            "6\n",
            "python\n",
            "PYTHON\n",
            "1\n"
          ]
        }
      ]
    },
    {
      "cell_type": "markdown",
      "source": [
        "##Conditional Statements"
      ],
      "metadata": {
        "id": "j8E2EHhLAtsH"
      }
    },
    {
      "cell_type": "code",
      "source": [
        "g=1\n",
        "\n",
        "if g==0:\n",
        "  print(\"Zero\")\n",
        "elif g>0:\n",
        "  print(\"Positive\")\n",
        "else:\n",
        "  print (\"Negative\")"
      ],
      "metadata": {
        "id": "N7s2a2v2BN5Z"
      },
      "execution_count": null,
      "outputs": []
    },
    {
      "cell_type": "markdown",
      "source": [
        "##Loops"
      ],
      "metadata": {
        "id": "mO7uwRyQCaeE"
      }
    },
    {
      "cell_type": "markdown",
      "source": [
        "###For Loop"
      ],
      "metadata": {
        "id": "fyxkGApVClkI"
      }
    },
    {
      "cell_type": "code",
      "source": [
        "for n in range(1, 10):\n",
        "    print(n)"
      ],
      "metadata": {
        "id": "XbDMUYowCdl7",
        "colab": {
          "base_uri": "https://localhost:8080/"
        },
        "outputId": "cc2f2f04-cfab-432a-d46f-63b83f6e6f37"
      },
      "execution_count": null,
      "outputs": [
        {
          "output_type": "stream",
          "name": "stdout",
          "text": [
            "1\n",
            "2\n",
            "3\n",
            "4\n",
            "5\n",
            "6\n",
            "7\n",
            "8\n",
            "9\n"
          ]
        }
      ]
    },
    {
      "cell_type": "code",
      "source": [
        "for n in range(1, 10,2):\n",
        "    print(n)"
      ],
      "metadata": {
        "id": "qDIM1yTnJQEK",
        "colab": {
          "base_uri": "https://localhost:8080/"
        },
        "outputId": "9ae3261c-bcc2-49f8-818d-5a7261c16eba"
      },
      "execution_count": null,
      "outputs": [
        {
          "output_type": "stream",
          "name": "stdout",
          "text": [
            "1\n",
            "3\n",
            "5\n",
            "7\n",
            "9\n"
          ]
        }
      ]
    },
    {
      "cell_type": "markdown",
      "source": [
        "###While Loop"
      ],
      "metadata": {
        "id": "c7W1Snr2JZpx"
      }
    },
    {
      "cell_type": "code",
      "source": [
        "n=0\n",
        "while n < 10:\n",
        "    print(n)\n",
        "    n += 1"
      ],
      "metadata": {
        "id": "qL15UTnHJg43",
        "colab": {
          "base_uri": "https://localhost:8080/"
        },
        "outputId": "cf718447-cce2-4e4c-b305-30eff733b418"
      },
      "execution_count": null,
      "outputs": [
        {
          "output_type": "stream",
          "name": "stdout",
          "text": [
            "0\n",
            "1\n",
            "2\n",
            "3\n",
            "4\n",
            "5\n",
            "6\n",
            "7\n",
            "8\n",
            "9\n"
          ]
        }
      ]
    },
    {
      "cell_type": "markdown",
      "source": [
        "##Input Functions"
      ],
      "metadata": {
        "id": "s11cbFn4VFln"
      }
    },
    {
      "cell_type": "code",
      "source": [
        "def increment(number, inc):\n",
        "   result=number + inc\n",
        "   return result\n",
        "\n",
        "# Keyword arguments\n",
        "\n",
        "inputnumber=int(input(\"Please enter a number: \"))\n",
        "\n",
        "print(increment(inputnumber, 2))"
      ],
      "metadata": {
        "id": "oiFc_zuNVQwF"
      },
      "execution_count": null,
      "outputs": []
    },
    {
      "cell_type": "markdown",
      "source": [
        "##NumPy Creating Arrays"
      ],
      "metadata": {
        "id": "8qXCrb9CVvMa"
      }
    },
    {
      "cell_type": "code",
      "source": [
        "import numpy as np\n",
        "\n",
        "arr = np.array([1, 2, 3, 4, 5])\n",
        "\n",
        "print(arr)"
      ],
      "metadata": {
        "colab": {
          "base_uri": "https://localhost:8080/"
        },
        "id": "SWw8MDNLV7ao",
        "outputId": "2fdeb9cb-2d09-4321-82ee-4b31b1d19225"
      },
      "execution_count": null,
      "outputs": [
        {
          "output_type": "stream",
          "name": "stdout",
          "text": [
            "[1 2 3 4 5]\n"
          ]
        }
      ]
    },
    {
      "cell_type": "markdown",
      "source": [
        "##Differentiation with one variable"
      ],
      "metadata": {
        "id": "gs7KSIYcXZqy"
      }
    },
    {
      "cell_type": "code",
      "source": [
        "#Import SymPy\n",
        "from sympy import*\n",
        "\n",
        "#Make a symbol\n",
        "x= symbols('x')\n",
        "\n",
        "#Write symbolic expression\n",
        "f = 2*x**3+ x**2 + 3*x+ 5\n",
        "\n",
        "#taking the first derivative of the function\n",
        "df= diff(f,x)\n",
        "\n",
        "#taking the nth derivative of the function (passing the third argument)\n",
        "df2= diff(f,x,2)\n",
        "df3= diff(f,x,3)\n",
        "\n",
        "#printing\n",
        "print(df)\n",
        "\n",
        "print(df2)\n",
        "print(df3)\n",
        "\n",
        "#Substituting values into expressions\n",
        "print(f.subs(x,4))\n",
        "\n",
        "print(df.subs(x,4))\n",
        "\n",
        "#For evaluating a numerical expression into a floating point number use \"evalf\"\n",
        "print(df.subs(x,4).evalf())"
      ],
      "metadata": {
        "id": "Q3G9jApCaqHg",
        "colab": {
          "base_uri": "https://localhost:8080/"
        },
        "outputId": "111707e9-29b8-44ac-965b-8e2b7519f6a8"
      },
      "execution_count": null,
      "outputs": [
        {
          "output_type": "stream",
          "name": "stdout",
          "text": [
            "6*x**2 + 2*x + 3\n",
            "2*(6*x + 1)\n",
            "12\n",
            "161\n",
            "107\n",
            "107.000000000000\n"
          ]
        }
      ]
    },
    {
      "cell_type": "code",
      "source": [
        "#Import SymPy\n",
        "from sympy import*\n",
        "\n",
        "#Make a symbol\n",
        "x= symbols('x')\n",
        "\n",
        "#Write symbolic expression\n",
        "f = sin(x)+ ln(x)\n",
        "\n",
        "#taking the first derivative of the function\n",
        "df= diff(f,x)\n",
        "\n",
        "print(df)\n",
        "\n",
        "print(df.subs(x,4))"
      ],
      "metadata": {
        "id": "XgeTkYUNbuWx",
        "colab": {
          "base_uri": "https://localhost:8080/"
        },
        "outputId": "03e52101-1007-4af0-d33d-2f89a6f74f6f"
      },
      "execution_count": null,
      "outputs": [
        {
          "output_type": "stream",
          "name": "stdout",
          "text": [
            "cos(x) + 1/x\n",
            "cos(4) + 1/4\n"
          ]
        }
      ]
    }
  ]
}